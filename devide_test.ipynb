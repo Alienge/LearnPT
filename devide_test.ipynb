{
 "cells": [
  {
   "cell_type": "markdown",
   "metadata": {},
   "source": [
    "### 在pytorch中显示打印中间梯度的两种方式\n",
    "- 使用retain_grad的形式，但是这种形式会消耗内存，调用方便\n",
    "- 使用hook的方式，回调函数，过程稍微复杂"
   ]
  },
  {
   "cell_type": "code",
   "execution_count": 3,
   "metadata": {},
   "outputs": [
    {
     "name": "stdout",
     "output_type": "stream",
     "text": [
      "tensor([[1.],\n",
      "        [1.]])\n",
      "tensor([[8.],\n",
      "        [8.]], grad_fn=<MulBackward0>)\n",
      "tensor([[4.],\n",
      "        [4.]])\n",
      "tensor([[8.],\n",
      "        [8.]])\n"
     ]
    }
   ],
   "source": [
    "import torch\n",
    "from torch.autograd import Variable\n",
    "x = torch.ones(2,1,requires_grad=True)\n",
    "y = x * x + 3\n",
    "# 显示中间梯度，方式1\n",
    "y.retain_grad()\n",
    "z = (1/2)*y*y\n",
    "#z.retain_grad()\n",
    "z.register_hook(print)\n",
    "#y = Variable(x * x + 3,requires_grad=True)\n",
    "#m = torch.sum(z)\n",
    "#m.backward()\n",
    "#y.backward(torch.ones(y.shape))\n",
    "z.backward(torch.ones(z.shape))\n",
    "print(z)\n",
    "\n",
    "print(y.grad)\n",
    "print(x.grad)"
   ]
  },
  {
   "cell_type": "code",
   "execution_count": null,
   "metadata": {},
   "outputs": [],
   "source": []
  }
 ],
 "metadata": {
  "kernelspec": {
   "display_name": "Python 3",
   "language": "python",
   "name": "python3"
  },
  "language_info": {
   "codemirror_mode": {
    "name": "ipython",
    "version": 3
   },
   "file_extension": ".py",
   "mimetype": "text/x-python",
   "name": "python",
   "nbconvert_exporter": "python",
   "pygments_lexer": "ipython3",
   "version": "3.7.3"
  }
 },
 "nbformat": 4,
 "nbformat_minor": 2
}
