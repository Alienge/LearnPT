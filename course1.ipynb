{
 "cells": [
  {
   "cell_type": "markdown",
   "metadata": {},
   "source": [
    "### 查看pytorch的版本，加载一些常用的函数库"
   ]
  },
  {
   "cell_type": "code",
   "execution_count": null,
   "metadata": {},
   "outputs": [],
   "source": [
    "import torch\n",
    "import numpy as np\n",
    "torch.__version__"
   ]
  },
  {
   "cell_type": "markdown",
   "metadata": {},
   "source": [
    "### numpy到torch tensor的转换，验证一个对象是否是torch tensor的形式"
   ]
  },
  {
   "cell_type": "code",
   "execution_count": null,
   "metadata": {},
   "outputs": [],
   "source": [
    "array = np.array([1,2.,3])\n",
    "torch_array = torch.from_numpy(array)\n",
    "print(torch_array)\n",
    "print(torch_array.numpy())\n",
    "print(torch.is_tensor(array))\n",
    "print(torch.is_tensor(torch_array))"
   ]
  },
  {
   "cell_type": "markdown",
   "metadata": {},
   "source": [
    "### torchstorage的用法，torch tensor到torch storage的转换"
   ]
  },
  {
   "cell_type": "code",
   "execution_count": null,
   "metadata": {},
   "outputs": [],
   "source": [
    "# torch.Storage是单一数据类型的一维数组\n",
    "torch_array = torch.tensor([1,2,3,4])\n",
    "array = np.array([1.,2,3,4,5])\n",
    "torch_storage = torch.FloatStorage(array)\n",
    "print(torch_storage)\n",
    "# 转换数据类型\n",
    "print(torch_storage.int().type())\n",
    "# clone\n",
    "print(torch_storage.clone())\n",
    "print(torch_storage.tolist())"
   ]
  },
  {
   "cell_type": "code",
   "execution_count": null,
   "metadata": {},
   "outputs": [],
   "source": []
  }
 ],
 "metadata": {
  "kernelspec": {
   "display_name": "Python 3",
   "language": "python",
   "name": "python3"
  },
  "language_info": {
   "codemirror_mode": {
    "name": "ipython",
    "version": 3
   },
   "file_extension": ".py",
   "mimetype": "text/x-python",
   "name": "python",
   "nbconvert_exporter": "python",
   "pygments_lexer": "ipython3",
   "version": "3.7.3"
  }
 },
 "nbformat": 4,
 "nbformat_minor": 2
}
