{
 "cells": [
  {
   "cell_type": "markdown",
   "metadata": {},
   "source": [
    "### 查看pytorch的版本，加载一些常用的函数库"
   ]
  },
  {
   "cell_type": "code",
   "execution_count": 2,
   "metadata": {},
   "outputs": [
    {
     "data": {
      "text/plain": [
       "'1.2.0'"
      ]
     },
     "execution_count": 2,
     "metadata": {},
     "output_type": "execute_result"
    }
   ],
   "source": [
    "import torch\n",
    "import numpy as np\n",
    "torch.__version__"
   ]
  },
  {
   "cell_type": "markdown",
   "metadata": {},
   "source": [
    "### numpy到torch tensor的转换，验证一个对象是否是torch tensor的形式"
   ]
  },
  {
   "cell_type": "code",
   "execution_count": null,
   "metadata": {},
   "outputs": [],
   "source": [
    "array = np.array([1,2.,3])\n",
    "torch_array = torch.from_numpy(array)\n",
    "print(torch_array)\n",
    "print(torch_array.numpy())\n",
    "print(torch.is_tensor(array))\n",
    "print(torch.is_tensor(torch_array))"
   ]
  },
  {
   "cell_type": "markdown",
   "metadata": {},
   "source": [
    "### torch storage的用法，torch tensor到torch storage的转换"
   ]
  },
  {
   "cell_type": "code",
   "execution_count": null,
   "metadata": {},
   "outputs": [],
   "source": [
    "# torch.Storage是单一数据类型的一维数组\n",
    "torch_array = torch.tensor([1,2,3,4])\n",
    "array = np.array([1.,2,3,4,5])\n",
    "torch_storage = torch.FloatStorage(array)\n",
    "print(torch_storage)\n",
    "# 转换数据类型\n",
    "print(torch_storage.int().type())\n",
    "# clone\n",
    "print(torch_storage.clone())\n",
    "print(torch_storage.tolist())"
   ]
  },
  {
   "cell_type": "markdown",
   "metadata": {},
   "source": [
    "### 判断torch是否是浮点型的数据, 并且设置默认类型的时候只支持float类型的"
   ]
  },
  {
   "cell_type": "code",
   "execution_count": 2,
   "metadata": {},
   "outputs": [
    {
     "name": "stdout",
     "output_type": "stream",
     "text": [
      "tensor([[1., 2., 3.],\n",
      "        [4., 5., 6.]])\n",
      "True\n",
      "torch.float32\n",
      "None\n",
      "torch.float16\n"
     ]
    }
   ],
   "source": [
    "array_tensor = torch.tensor([[1.,2,3],[4,5,6]])\n",
    "print(array_tensor)\n",
    "# this function is testing the type of tensor\n",
    "print(torch.is_floating_point(array_tensor))\n",
    "print(array_tensor.dtype)\n",
    "print(torch.set_default_dtype(torch.float16))\n",
    "array_tensor = torch.tensor([[1.,2,3],[4,5,6]])\n",
    "print(array_tensor.dtype)"
   ]
  },
  {
   "cell_type": "markdown",
   "metadata": {},
   "source": [
    "### torch中计算tensor中元素的总个数"
   ]
  },
  {
   "cell_type": "code",
   "execution_count": null,
   "metadata": {},
   "outputs": [],
   "source": [
    "torch.set_default_dtype(torch.float16)\n",
    "a = torch.randn(1,2,3,4,5)\n",
    "print(a)\n",
    "torch.numel(a)"
   ]
  },
  {
   "cell_type": "code",
   "execution_count": null,
   "metadata": {},
   "outputs": [],
   "source": [
    "torch[cpuType]"
   ]
  },
  {
   "cell_type": "code",
   "execution_count": null,
   "metadata": {},
   "outputs": [],
   "source": [
    "b = torch.zeros(2,2)\n",
    "torch.numel(b)"
   ]
  },
  {
   "cell_type": "code",
   "execution_count": null,
   "metadata": {},
   "outputs": [],
   "source": [
    "### 不太明白这里面的参数含义(应该是输出时，显示格式的修改)"
   ]
  },
  {
   "cell_type": "code",
   "execution_count": null,
   "metadata": {},
   "outputs": [],
   "source": [
    "torch.set_printoptions(precision=None, threshold=None, edgeitems=None, linewidth=None, profile=None, sci_mode=None)\n"
   ]
  },
  {
   "cell_type": "markdown",
   "metadata": {},
   "source": [
    "### torch.tensor读数据的时候都是浅拷贝，为避免拷贝，使用其他torch.Tensor.required_grad或者torch.Tensor.detach,如果输入的数据类型为numpy的形式，使用torch.as_tensor"
   ]
  },
  {
   "cell_type": "code",
   "execution_count": 8,
   "metadata": {},
   "outputs": [
    {
     "name": "stdout",
     "output_type": "stream",
     "text": [
      "tensor([1, 2, 3, 4])\n",
      "tensor([1, 2, 3, 4])\n",
      "tensor([[1, 2, 3],\n",
      "        [4, 5, 6]], dtype=torch.int32)\n",
      "tensor([1., 2., 3., 4., 5.], device='cuda:0', dtype=torch.float32)\n"
     ]
    }
   ],
   "source": [
    "a = torch.tensor([1,2,3,4])\n",
    "b = torch.Tensor.detach(a)\n",
    "c = np.array([[1,2,3],[4,5,6]])\n",
    "d = torch.as_tensor(c)\n",
    "e = torch.tensor([1,2,3,4,5],dtype=torch.float32,device=torch.device('cuda:0'))\n",
    "print(a)\n",
    "print(b)\n",
    "print(d)\n",
    "print(e)"
   ]
  },
  {
   "cell_type": "code",
   "execution_count": 16,
   "metadata": {},
   "outputs": [
    {
     "data": {
      "text/plain": [
       "_CudaDeviceProperties(name='GeForce RTX 2060 SUPER', major=7, minor=5, total_memory=8192MB, multi_processor_count=34)"
      ]
     },
     "execution_count": 16,
     "metadata": {},
     "output_type": "execute_result"
    }
   ],
   "source": [
    "torch.cuda.get_device_name(0)\n",
    "torch.cuda.get_device_properties(\"cuda:0\")"
   ]
  },
  {
   "cell_type": "markdown",
   "metadata": {},
   "source": [
    "### torch.sparse_coo_tensor, 构建稀疏张量，i前面的是延x与y方向上的元素索引值，v后面对应的是函数值"
   ]
  },
  {
   "cell_type": "code",
   "execution_count": 3,
   "metadata": {},
   "outputs": [
    {
     "name": "stdout",
     "output_type": "stream",
     "text": [
      "tensor([[0., 0., 3., 0.],\n",
      "        [4., 0., 5., 0.]])\n"
     ]
    }
   ],
   "source": [
    "i = torch.tensor([[0,1,1],[2,0,2]])\n",
    "v = torch.tensor([3,4,5], dtype=torch.float32)\n",
    "d = torch.sparse_coo_tensor(i,v,[2,4]).to_dense()\n",
    "print(d)"
   ]
  },
  {
   "cell_type": "code",
   "execution_count": 19,
   "metadata": {},
   "outputs": [
    {
     "name": "stdout",
     "output_type": "stream",
     "text": [
      "tensor([[0., 0., 0.],\n",
      "        [0., 0., 0.]], dtype=torch.float32)\n"
     ]
    }
   ],
   "source": [
    "print(torch.sparse.FloatTensor(2,3).to_dense())"
   ]
  },
  {
   "cell_type": "code",
   "execution_count": 24,
   "metadata": {},
   "outputs": [
    {
     "name": "stdout",
     "output_type": "stream",
     "text": [
      "tensor([], size=(1, 0))\n"
     ]
    },
    {
     "data": {
      "text/plain": [
       "tensor([[0., 0.]])"
      ]
     },
     "execution_count": 24,
     "metadata": {},
     "output_type": "execute_result"
    }
   ],
   "source": [
    "torch.set_default_dtype(torch.float32)\n",
    "print(torch.empty([1,0]))\n",
    "torch.sparse_coo_tensor(torch.empty([1,0]),torch.empty([0,2]),[1,2]).to_dense()"
   ]
  },
  {
   "cell_type": "markdown",
   "metadata": {},
   "source": [
    "### 在cpu中，torch.as_tensor中复制array的是地址，而在gpu中和正常的复制类似，不共享地址，是单独复制一份出来"
   ]
  },
  {
   "cell_type": "code",
   "execution_count": 25,
   "metadata": {},
   "outputs": [
    {
     "name": "stdout",
     "output_type": "stream",
     "text": [
      "tensor([[1, 2, 3],\n",
      "        [4, 5, 6]], dtype=torch.int32)\n",
      "tensor([[  1,   2,   3],\n",
      "        [100,   5,   6]], dtype=torch.int32)\n",
      "[[  1   2   3]\n",
      " [100   5   6]]\n"
     ]
    }
   ],
   "source": [
    "a = np.array([[1,2,3],[4,5,6]])\n",
    "b = torch.as_tensor(a)\n",
    "print(b)\n",
    "b[1][0]=100\n",
    "print(b)\n",
    "print(a)"
   ]
  },
  {
   "cell_type": "code",
   "execution_count": 26,
   "metadata": {},
   "outputs": [
    {
     "name": "stdout",
     "output_type": "stream",
     "text": [
      "tensor([11, 12, 13], device='cuda:0', dtype=torch.int32)\n",
      "tensor([  11,   12, 1000], device='cuda:0', dtype=torch.int32)\n",
      "[11 12 13]\n"
     ]
    }
   ],
   "source": [
    "c = np.array([11,12,13])\n",
    "d = torch.as_tensor(c,device=torch.device(\"cuda\"))\n",
    "print(d)\n",
    "d[2] = 1000\n",
    "print(d)\n",
    "print(c)"
   ]
  },
  {
   "cell_type": "markdown",
   "metadata": {},
   "source": [
    "### torch.as_strided() 将元素进行类似的切片操作，第一个参数是生成结果的size，"
   ]
  },
  {
   "cell_type": "code",
   "execution_count": 4,
   "metadata": {},
   "outputs": [
    {
     "data": {
      "text/plain": [
       "tensor([[ 1.0557, -0.1596,  0.3737],\n",
       "        [-0.8949,  1.2012, -0.3745],\n",
       "        [-0.2286, -1.3864, -0.4766]])"
      ]
     },
     "execution_count": 4,
     "metadata": {},
     "output_type": "execute_result"
    }
   ],
   "source": [
    "x = torch.randn(3,3)\n",
    "x"
   ]
  },
  {
   "cell_type": "code",
   "execution_count": 5,
   "metadata": {},
   "outputs": [
    {
     "name": "stdout",
     "output_type": "stream",
     "text": [
      "tensor([[ 1.0557,  0.3737],\n",
      "        [-0.1596, -0.8949]])\n"
     ]
    }
   ],
   "source": [
    "t = torch.as_strided(x,(2,2),(1,2))\n",
    "print(t)"
   ]
  },
  {
   "cell_type": "code",
   "execution_count": 7,
   "metadata": {},
   "outputs": [
    {
     "data": {
      "text/plain": [
       "tensor([1, 2, 3], dtype=torch.int32)"
      ]
     },
     "execution_count": 7,
     "metadata": {},
     "output_type": "execute_result"
    }
   ],
   "source": [
    "t = np.array([1,2,3])\n",
    "numpy_t = torch.from_numpy(t)\n",
    "numpy_t"
   ]
  },
  {
   "cell_type": "markdown",
   "metadata": {},
   "source": [
    "### 初始化torch的一些函数, empty中是未初始化的值，意思是随机的值"
   ]
  },
  {
   "cell_type": "code",
   "execution_count": 20,
   "metadata": {},
   "outputs": [
    {
     "name": "stdout",
     "output_type": "stream",
     "text": [
      "tensor([[0., 0.],\n",
      "        [0., 0.]])\n",
      "tensor([0, 0, 0], dtype=torch.int32)\n",
      "tensor([[0.0000e+00, 1.8750e+00, 5.4692e-05],\n",
      "        [5.2298e+22, 1.6927e+22, 3.3354e-09]])\n",
      "tensor([[1., 1.],\n",
      "        [1., 1.]])\n",
      "tensor([1, 1, 1], dtype=torch.int32)\n"
     ]
    }
   ],
   "source": [
    "zeros1 = torch.zeros((2,2))\n",
    "zeros2 = torch.zeros_like(numpy_t)\n",
    "empty1 = torch.empty((2,3))\n",
    "print(zeros1)\n",
    "print(zeros2)\n",
    "print(empty1)\n",
    "one1 = torch.ones(2,2)\n",
    "one2 = torch.ones_like(numpy_t)\n",
    "print(one1)\n",
    "print(one2)"
   ]
  },
  {
   "cell_type": "code",
   "execution_count": 27,
   "metadata": {},
   "outputs": [
    {
     "name": "stdout",
     "output_type": "stream",
     "text": [
      "tensor([0, 2, 4, 6, 8])\n"
     ]
    },
    {
     "name": "stderr",
     "output_type": "stream",
     "text": [
      "D:\\anaconda\\lib\\site-packages\\ipykernel_launcher.py:3: UserWarning: torch.range is deprecated in favor of torch.arange and will be removed in 0.5. Note that arange generates values in [start; end), not [start; end].\n",
      "  This is separate from the ipykernel package so we can avoid doing imports until\n"
     ]
    },
    {
     "name": "stdout",
     "output_type": "stream",
     "text": [
      "tensor([0., 1., 2., 3., 4., 5.])\n",
      "tensor([ 0.0000,  0.5263,  1.0526,  1.5789,  2.1053,  2.6316,  3.1579,  3.6842,\n",
      "         4.2105,  4.7368,  5.2632,  5.7895,  6.3158,  6.8421,  7.3684,  7.8947,\n",
      "         8.4211,  8.9474,  9.4737, 10.0000])\n",
      "tensor([1.0000e+00, 1.0000e+05, 1.0000e+10])\n"
     ]
    }
   ],
   "source": [
    "a = torch.arange(0,10,2)\n",
    "print(a)\n",
    "b = torch.range(0,5)\n",
    "print(b)\n",
    "c = torch.linspace(0,10,20)\n",
    "print(c)\n",
    "d = torch.logspace(0,10,3)\n",
    "print(d)"
   ]
  },
  {
   "cell_type": "code",
   "execution_count": 29,
   "metadata": {},
   "outputs": [
    {
     "name": "stdout",
     "output_type": "stream",
     "text": [
      "tensor([[1., 0., 0.],\n",
      "        [0., 1., 0.]])\n"
     ]
    }
   ],
   "source": [
    "e = torch.eye(2,3)\n",
    "d = torch.\n",
    "print(e)"
   ]
  },
  {
   "cell_type": "code",
   "execution_count": null,
   "metadata": {},
   "outputs": [],
   "source": []
  }
 ],
 "metadata": {
  "kernelspec": {
   "display_name": "Python 3",
   "language": "python",
   "name": "python3"
  },
  "language_info": {
   "codemirror_mode": {
    "name": "ipython",
    "version": 3
   },
   "file_extension": ".py",
   "mimetype": "text/x-python",
   "name": "python",
   "nbconvert_exporter": "python",
   "pygments_lexer": "ipython3",
   "version": "3.7.3"
  }
 },
 "nbformat": 4,
 "nbformat_minor": 2
}
